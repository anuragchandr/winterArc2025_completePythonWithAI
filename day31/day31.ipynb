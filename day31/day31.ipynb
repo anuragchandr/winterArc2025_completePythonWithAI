{
 "cells": [
  {
   "cell_type": "markdown",
   "id": "5be2d25c",
   "metadata": {},
   "source": [
    "## Hello World"
   ]
  },
  {
   "cell_type": "code",
   "execution_count": 1,
   "id": "b5528b33",
   "metadata": {},
   "outputs": [
    {
     "name": "stdout",
     "output_type": "stream",
     "text": [
      "Hello World!\n"
     ]
    }
   ],
   "source": [
    "print(\"Hello World!\")"
   ]
  },
  {
   "cell_type": "code",
   "execution_count": 2,
   "id": "ef83b560",
   "metadata": {},
   "outputs": [
    {
     "name": "stdout",
     "output_type": "stream",
     "text": [
      "Python Version: 3.13.2 (tags/v3.13.2:4f8bb39, Feb  4 2025, 15:23:48) [MSC v.1942 64 bit (AMD64)]\n",
      "System Name: Windows\n",
      "System Version: 10.0.26220\n",
      "Release: 11\n",
      "Architecture: 64bit\n",
      "Processor: Intel64 Family 6 Model 140 Stepping 1, GenuineIntel\n"
     ]
    }
   ],
   "source": [
    "import platform\n",
    "import sys\n",
    "import os\n",
    "\n",
    "# Get Python version\n",
    "python_version = sys.version\n",
    "\n",
    "# Get system details\n",
    "system_name = platform.system()\n",
    "system_version = platform.version()\n",
    "release = platform.release()\n",
    "architecture = platform.architecture()[0]\n",
    "processor = platform.processor()\n",
    "\n",
    "# Display results\n",
    "print(f\"Python Version: {python_version}\")\n",
    "print(f\"System Name: {system_name}\")\n",
    "print(f\"System Version: {system_version}\")\n",
    "print(f\"Release: {release}\")\n",
    "print(f\"Architecture: {architecture}\")\n",
    "print(f\"Processor: {processor}\")"
   ]
  }
 ],
 "metadata": {
  "kernelspec": {
   "display_name": ".venv (3.13.2)",
   "language": "python",
   "name": "python3"
  },
  "language_info": {
   "codemirror_mode": {
    "name": "ipython",
    "version": 3
   },
   "file_extension": ".py",
   "mimetype": "text/x-python",
   "name": "python",
   "nbconvert_exporter": "python",
   "pygments_lexer": "ipython3",
   "version": "3.13.2"
  }
 },
 "nbformat": 4,
 "nbformat_minor": 5
}
