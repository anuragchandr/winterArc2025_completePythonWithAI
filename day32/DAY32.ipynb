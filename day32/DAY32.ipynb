{
 "cells": [
  {
   "cell_type": "markdown",
   "id": "f19213bc",
   "metadata": {},
   "source": [
    "# DAY 32\n",
    "## NumPy Data types"
   ]
  },
  {
   "cell_type": "code",
   "execution_count": 6,
   "id": "18ec0883",
   "metadata": {},
   "outputs": [],
   "source": [
    "import numpy as np"
   ]
  },
  {
   "cell_type": "code",
   "execution_count": 7,
   "id": "206e8483",
   "metadata": {},
   "outputs": [
    {
     "name": "stdout",
     "output_type": "stream",
     "text": [
      "1D array:  [1 2 3 4 5]\n",
      "2D array:  [[1 2 3]\n",
      " [4 5 6]]\n"
     ]
    }
   ],
   "source": [
    "arr_1d = np.array([1,2,3,4,5])\n",
    "print(\"1D array: \", arr_1d)\n",
    "\n",
    "arr_2d = np.array([[1,2,3],[4,5,6]])\n",
    "print(\"2D array: \", arr_2d)"
   ]
  },
  {
   "cell_type": "markdown",
   "id": "f8e2a887",
   "metadata": {},
   "source": [
    "## List vs Numpy Arrays"
   ]
  },
  {
   "cell_type": "code",
   "execution_count": 8,
   "id": "93eb985f",
   "metadata": {},
   "outputs": [
    {
     "name": "stdout",
     "output_type": "stream",
     "text": [
      "pylist *2 [1, 2, 3, 1, 2, 3]\n",
      "np_arr *2 [2 4 6]\n"
     ]
    }
   ],
   "source": [
    "py_list = [1,2,3]\n",
    "print(\"pylist *2\",py_list*2)\n",
    "np_arr = np.array([1,2,3])\n",
    "print(\"np_arr *2\",np_arr*2)"
   ]
  },
  {
   "cell_type": "code",
   "execution_count": 9,
   "id": "00c2fe36",
   "metadata": {},
   "outputs": [
    {
     "name": "stdout",
     "output_type": "stream",
     "text": [
      "time: 0.9456565380096436\n"
     ]
    }
   ],
   "source": [
    "import time\n",
    "start = time.time()\n",
    "py_list2 = [i*2 for i in range(10000000)]\n",
    "print(\"time:\",time.time()-start)"
   ]
  },
  {
   "cell_type": "code",
   "execution_count": 10,
   "id": "226b0877",
   "metadata": {},
   "outputs": [
    {
     "name": "stdout",
     "output_type": "stream",
     "text": [
      "time: 0.9387099742889404\n"
     ]
    }
   ],
   "source": [
    "import time\n",
    "start = time.time()\n",
    "py_list2 = [i*2 for i in range(10000000)]\n",
    "print(\"time:\",time.time()-start)"
   ]
  },
  {
   "cell_type": "markdown",
   "id": "63ced9d2",
   "metadata": {},
   "source": [
    "## Creating arrays from scratch\n"
   ]
  },
  {
   "cell_type": "code",
   "execution_count": 11,
   "id": "29a579f0",
   "metadata": {},
   "outputs": [
    {
     "name": "stdout",
     "output_type": "stream",
     "text": [
      "[[0. 0. 0. 0.]\n",
      " [0. 0. 0. 0.]\n",
      " [0. 0. 0. 0.]]\n"
     ]
    }
   ],
   "source": [
    "zeros = np.zeros((3,4))\n",
    "print(zeros)"
   ]
  },
  {
   "cell_type": "code",
   "execution_count": 12,
   "id": "d0ae9e9a",
   "metadata": {},
   "outputs": [
    {
     "name": "stdout",
     "output_type": "stream",
     "text": [
      "[[1. 1. 1. 1.]\n",
      " [1. 1. 1. 1.]\n",
      " [1. 1. 1. 1.]]\n"
     ]
    }
   ],
   "source": [
    "ones = np.ones((3,4))\n",
    "print(ones)"
   ]
  },
  {
   "cell_type": "code",
   "execution_count": 13,
   "id": "1b332dc6",
   "metadata": {},
   "outputs": [
    {
     "name": "stdout",
     "output_type": "stream",
     "text": [
      "[[7 7 7]\n",
      " [7 7 7]]\n"
     ]
    }
   ],
   "source": [
    "full = np.full((2,3),7)\n",
    "print(full)"
   ]
  },
  {
   "cell_type": "code",
   "execution_count": 14,
   "id": "fa16bb88",
   "metadata": {},
   "outputs": [
    {
     "name": "stdout",
     "output_type": "stream",
     "text": [
      "[[0.04895628 0.98821181 0.13338042]\n",
      " [0.98645398 0.4028552  0.04024613]]\n"
     ]
    }
   ],
   "source": [
    "random = np.random.random((2,3))\n",
    "print(random)"
   ]
  },
  {
   "cell_type": "code",
   "execution_count": 15,
   "id": "090fbed8",
   "metadata": {},
   "outputs": [
    {
     "name": "stdout",
     "output_type": "stream",
     "text": [
      "[10 12 14 16 18 20]\n"
     ]
    }
   ],
   "source": [
    "Sequence = np.arange(10,21,2)\n",
    "print(Sequence)"
   ]
  },
  {
   "cell_type": "markdown",
   "id": "2b6f6b13",
   "metadata": {},
   "source": [
    "## vector, Matrix and Tensor"
   ]
  },
  {
   "cell_type": "code",
   "execution_count": 16,
   "id": "e6acc4f0",
   "metadata": {},
   "outputs": [
    {
     "name": "stdout",
     "output_type": "stream",
     "text": [
      "[1 2 3]\n"
     ]
    }
   ],
   "source": [
    "vector = np.array([1,2,3])\n",
    "print(vector)"
   ]
  },
  {
   "cell_type": "code",
   "execution_count": 17,
   "id": "ef02f0c7",
   "metadata": {},
   "outputs": [
    {
     "name": "stdout",
     "output_type": "stream",
     "text": [
      "[[1 2 3]\n",
      " [4 5 6]]\n"
     ]
    }
   ],
   "source": [
    "matrix = np.array([[1,2,3],[4,5,6]])\n",
    "print(matrix)"
   ]
  },
  {
   "cell_type": "code",
   "execution_count": 18,
   "id": "bad68201",
   "metadata": {},
   "outputs": [
    {
     "name": "stdout",
     "output_type": "stream",
     "text": [
      "[[[1, 2], [3, 4]], [[5, 6], [7, 8]]]\n"
     ]
    }
   ],
   "source": [
    "tensor = [\n",
    "      [[1,2],[3,4]],\n",
    "      [[5,6],[7,8]]\n",
    "          ]\n",
    "print(tensor)"
   ]
  },
  {
   "cell_type": "markdown",
   "id": "16edd2ee",
   "metadata": {},
   "source": [
    "## Array Props"
   ]
  },
  {
   "cell_type": "code",
   "execution_count": 19,
   "id": "71e3de6d",
   "metadata": {},
   "outputs": [
    {
     "name": "stdout",
     "output_type": "stream",
     "text": [
      "[[1 2 3]\n",
      " [4 5 6]]\n",
      "shape: (2, 3)\n",
      "size: 6\n",
      "dtype: int64\n",
      "ndim: 2\n"
     ]
    }
   ],
   "source": [
    "arr = np.array([[1,2,3],[4,5,6]])\n",
    "print(arr)\n",
    "print(\"shape:\",arr.shape)\n",
    "print(\"size:\",arr.size)\n",
    "print(\"dtype:\",arr.dtype\t)\n",
    "print(\"ndim:\",arr.ndim)"
   ]
  },
  {
   "cell_type": "code",
   "execution_count": 20,
   "id": "e02137e9",
   "metadata": {},
   "outputs": [
    {
     "name": "stdout",
     "output_type": "stream",
     "text": [
      "[ 1  2  3  4  5  6  7  8  9 10]\n",
      "shape: (10,)\n"
     ]
    }
   ],
   "source": [
    "arr = np.arange(1,11)\n",
    "print(arr)\n",
    "print(\"shape:\",arr.shape)"
   ]
  },
  {
   "cell_type": "code",
   "execution_count": 21,
   "id": "924e13e5",
   "metadata": {},
   "outputs": [
    {
     "name": "stdout",
     "output_type": "stream",
     "text": [
      "[[ 1  2  3  4  5]\n",
      " [ 6  7  8  9 10]]\n",
      "shape: (2, 5)\n"
     ]
    }
   ],
   "source": [
    "#reshape\n",
    "arr2 = arr.reshape(2,5)\n",
    "print(arr2)\n",
    "print(\"shape:\",arr2.shape)"
   ]
  },
  {
   "cell_type": "code",
   "execution_count": 22,
   "id": "9f84c48f",
   "metadata": {},
   "outputs": [
    {
     "name": "stdout",
     "output_type": "stream",
     "text": [
      "[ 1  2  3  4  5  6  7  8  9 10]\n",
      "shape: (10,)\n"
     ]
    }
   ],
   "source": [
    "#flattened\n",
    "arr3 = arr2.flatten()\n",
    "print(arr3)\n",
    "print(\"shape:\",arr3.shape)"
   ]
  },
  {
   "cell_type": "code",
   "execution_count": 23,
   "id": "059778ff",
   "metadata": {},
   "outputs": [
    {
     "name": "stdout",
     "output_type": "stream",
     "text": [
      "[ 1  2  3  4  5  6  7  8  9 10]\n",
      "shape: (10,)\n"
     ]
    }
   ],
   "source": [
    "#reveled\n",
    "arr4 = arr2.ravel()\n",
    "print(arr4)\n",
    "print(\"shape:\",arr4.shape)"
   ]
  },
  {
   "cell_type": "code",
   "execution_count": 24,
   "id": "94bc6d80",
   "metadata": {},
   "outputs": [
    {
     "name": "stdout",
     "output_type": "stream",
     "text": [
      "[[ 1  6]\n",
      " [ 2  7]\n",
      " [ 3  8]\n",
      " [ 4  9]\n",
      " [ 5 10]]\n",
      "shape: (5, 2)\n"
     ]
    }
   ],
   "source": [
    "#Transpose\n",
    "arr5 = arr2.transpose()\n",
    "print(arr5)\n",
    "print(\"shape:\",arr5.shape)"
   ]
  }
 ],
 "metadata": {
  "kernelspec": {
   "display_name": ".venv (3.13.2)",
   "language": "python",
   "name": "python3"
  },
  "language_info": {
   "codemirror_mode": {
    "name": "ipython",
    "version": 3
   },
   "file_extension": ".py",
   "mimetype": "text/x-python",
   "name": "python",
   "nbconvert_exporter": "python",
   "pygments_lexer": "ipython3",
   "version": "3.13.2"
  }
 },
 "nbformat": 4,
 "nbformat_minor": 5
}
